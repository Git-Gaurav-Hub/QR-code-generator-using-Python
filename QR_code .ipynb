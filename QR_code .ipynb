{
 "cells": [
  {
   "cell_type": "code",
   "execution_count": 1,
   "id": "a501fd50",
   "metadata": {},
   "outputs": [],
   "source": [
    "import qrcode\n",
    "from PIL import*"
   ]
  },
  {
   "cell_type": "code",
   "execution_count": 2,
   "id": "aacace49",
   "metadata": {},
   "outputs": [],
   "source": [
    "\n",
    "B=qrcode.QRCode(version=1,\n",
    "                error_correction=qrcode.constants.ERROR_CORRECT_H,\n",
    "                box_size=9,border=5)\n",
    "\n"
   ]
  },
  {
   "cell_type": "code",
   "execution_count": 3,
   "id": "a6a54c47",
   "metadata": {},
   "outputs": [],
   "source": [
    "B.add_data(\"https://www.dcrustedp.in/\")\n",
    "B.make(fit=True)\n"
   ]
  },
  {
   "cell_type": "code",
   "execution_count": 4,
   "id": "bae03cdb",
   "metadata": {},
   "outputs": [],
   "source": [
    "image=B.make_image(fill_colour=\"blue\", back_colour=\"white\")\n",
    "image.save(\"DCRUST LOG IN.png\")"
   ]
  }
 ],
 "metadata": {
  "kernelspec": {
   "display_name": "Python 3 (ipykernel)",
   "language": "python",
   "name": "python3"
  },
  "language_info": {
   "codemirror_mode": {
    "name": "ipython",
    "version": 3
   },
   "file_extension": ".py",
   "mimetype": "text/x-python",
   "name": "python",
   "nbconvert_exporter": "python",
   "pygments_lexer": "ipython3",
   "version": "3.11.4"
  }
 },
 "nbformat": 4,
 "nbformat_minor": 5
}
